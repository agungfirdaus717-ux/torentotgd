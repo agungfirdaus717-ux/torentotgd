{
  "nbformat": 4,
  "nbformat_minor": 0,
  "metadata": {
    "colab": {
      "provenance": [],
      "authorship_tag": "ABX9TyN3xOtnu6fsgfAJZ15hUm+K",
      "include_colab_link": true
    },
    "kernelspec": {
      "name": "python3",
      "display_name": "Python 3"
    },
    "language_info": {
      "name": "python"
    }
  },
  "cells": [
    {
      "cell_type": "markdown",
      "metadata": {
        "id": "view-in-github",
        "colab_type": "text"
      },
      "source": [
        "<a href=\"https://colab.research.google.com/github/agungfirdaus717-ux/torentotgd/blob/main/SrtTranslator.ipynb\" target=\"_parent\"><img src=\"https://colab.research.google.com/assets/colab-badge.svg\" alt=\"Open In Colab\"/></a>"
      ]
    },
    {
      "cell_type": "markdown",
      "source": [
        "# Srt Translator Ke Indonesia"
      ],
      "metadata": {
        "id": "3K8QhVkTY1pJ"
      }
    },
    {
      "cell_type": "code",
      "execution_count": null,
      "metadata": {
        "id": "0oy62XmFYxHM"
      },
      "outputs": [],
      "source": [
        "# 🇮🇩 SRT Translator ke Bahasa Indonesia (Gratis, dengan Style)\n",
        "# Gunakan di Google Colab\n",
        "\n",
        "# ⬇️ Install dependencies\n",
        "!pip -q install transformers sentencepiece srt chardet tqdm\n",
        "\n",
        "# ⚙️ Import & Load Model\n",
        "from transformers import pipeline\n",
        "import srt, chardet, pathlib, re\n",
        "from tqdm import tqdm\n",
        "\n",
        "# Load model en->id\n",
        "translator = pipeline(\"translation\", model=\"Helsinki-NLP/opus-mt-en-id\")\n",
        "print(\"✅ Model siap dipakai\")\n",
        "\n",
        "# 📥 Fungsi Baca & Tulis SRT\n",
        "def read_file_guess_encoding(path):\n",
        "    raw = open(path, \"rb\").read()\n",
        "    enc = chardet.detect(raw).get(\"encoding\") or \"utf-8\"\n",
        "    try:\n",
        "        return raw.decode(enc), enc\n",
        "    except Exception:\n",
        "        return raw.decode(\"utf-8\", errors=\"ignore\"), \"utf-8\"\n",
        "\n",
        "def write_text(path, text):\n",
        "    with open(path, \"w\", encoding=\"utf-8\", newline=\"\") as f:\n",
        "        f.write(text)\n",
        "\n",
        "def serialize_srt(subs):\n",
        "    return srt.compose(subs)\n",
        "\n",
        "def parse_srt(text):\n",
        "    return list(srt.parse(text))\n",
        "\n",
        "# 📂 Upload File\n",
        "from google.colab import files\n",
        "uploaded = files.upload()\n",
        "srt_path = list(uploaded.keys())[0]\n",
        "print(\"Menggunakan file upload:\", srt_path)\n",
        "\n",
        "# 🧹 Formatter & Style\n",
        "def clean_text(t, style=\"simple\"):\n",
        "    t = t.strip()\n",
        "\n",
        "    # Rapikan spasi ganda\n",
        "    t = re.sub(r\"\\s+\", \" \", t)\n",
        "\n",
        "    # Kapital awal kalimat\n",
        "    if t:\n",
        "        t = t[0].upper() + t[1:]\n",
        "\n",
        "    # Style pilihan\n",
        "    if style == \"simple\":\n",
        "        # buat kalimat singkat (hapus kata tambahan umum)\n",
        "        t = t.replace(\"saya\", \"aku\").replace(\"kami\", \"kita\")\n",
        "    elif style == \"natural\":\n",
        "        t = t.replace(\"saya\", \"aku\")\n",
        "    elif style == \"formal\":\n",
        "        t = t.replace(\"aku\", \"saya\").replace(\"nggak\", \"tidak\")\n",
        "\n",
        "    return t\n",
        "\n",
        "# 🧠 Jalankan Terjemahan\n",
        "style = \"simple\"  #@param [\"simple\", \"natural\", \"formal\"]\n",
        "\n",
        "raw_text, encoding = read_file_guess_encoding(srt_path)\n",
        "subs = parse_srt(raw_text)\n",
        "\n",
        "original_blocks = [s.content for s in subs]\n",
        "translated_blocks = []\n",
        "\n",
        "for block in tqdm(original_blocks):\n",
        "    try:\n",
        "        result = translator(block, max_length=512)\n",
        "        text_id = result[0][\"translation_text\"]\n",
        "    except Exception:\n",
        "        text_id = block  # fallback\n",
        "    translated_blocks.append(clean_text(text_id, style=style))\n",
        "\n",
        "# Rekatkan ke objek SRT\n",
        "for i, s in enumerate(subs):\n",
        "    s.content = translated_blocks[i]\n",
        "\n",
        "out_text = serialize_srt(subs)\n",
        "out_path = str(pathlib.Path(srt_path).with_suffix(\"\").as_posix()) + f\"_{style.upper()}.srt\"\n",
        "write_text(out_path, out_text)\n",
        "\n",
        "print(\"✅ Selesai! File tersimpan sebagai:\", out_path)\n",
        "\n",
        "# 💾 Download hasil\n",
        "files.download(out_path)\n"
      ]
    }
  ]
}