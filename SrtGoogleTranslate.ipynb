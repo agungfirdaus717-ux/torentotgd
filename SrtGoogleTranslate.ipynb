{
  "nbformat": 4,
  "nbformat_minor": 0,
  "metadata": {
    "colab": {
      "provenance": [],
      "authorship_tag": "ABX9TyOpPM65P/DduML181YxAcZs",
      "include_colab_link": true
    },
    "kernelspec": {
      "name": "python3",
      "display_name": "Python 3"
    },
    "language_info": {
      "name": "python"
    }
  },
  "cells": [
    {
      "cell_type": "markdown",
      "metadata": {
        "id": "view-in-github",
        "colab_type": "text"
      },
      "source": [
        "<a href=\"https://colab.research.google.com/github/agungfirdaus717-ux/torentotgd/blob/main/SrtGoogleTranslate.ipynb\" target=\"_parent\"><img src=\"https://colab.research.google.com/assets/colab-badge.svg\" alt=\"Open In Colab\"/></a>"
      ]
    },
    {
      "cell_type": "markdown",
      "source": [
        "# Srt Translate GoogleTranslate"
      ],
      "metadata": {
        "id": "08LRVhrlvIGv"
      }
    },
    {
      "cell_type": "code",
      "execution_count": null,
      "metadata": {
        "id": "Z62PBIEmvCPi"
      },
      "outputs": [],
      "source": [
        "!pip install deep-translator==1.11.4 pysrt\n",
        "\n",
        "from deep_translator import GoogleTranslator\n",
        "import pysrt\n",
        "from google.colab import files\n",
        "\n",
        "print(\"📂 Upload file subtitle (.srt)\")\n",
        "uploaded = files.upload()\n",
        "input_file = list(uploaded.keys())[0]\n",
        "\n",
        "target_lang = input(\"\\nMasukkan kode bahasa target (contoh: id, en, ja, fr) [default=id]: \") or \"id\"\n",
        "\n",
        "subs = pysrt.open(input_file, encoding='utf-8')\n",
        "translator = GoogleTranslator(source=\"auto\", target=target_lang)\n",
        "\n",
        "print(f\"\\n⚡ Sedang menerjemahkan ke {target_lang}...\")\n",
        "for sub in subs:\n",
        "    try:\n",
        "        sub.text = translator.translate(sub.text)\n",
        "    except Exception as e:\n",
        "        print(\"❌ Error:\", e)\n",
        "\n",
        "output_file = f\"output_{target_lang}.srt\"\n",
        "subs.save(output_file, encoding='utf-8')\n",
        "print(f\"\\n✅ Selesai! Subtitle tersimpan di: {output_file}\")\n",
        "\n",
        "files.download(output_file)\n"
      ]
    }
  ]
}