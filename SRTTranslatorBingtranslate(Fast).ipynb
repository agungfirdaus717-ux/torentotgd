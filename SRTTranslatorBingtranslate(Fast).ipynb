{
  "nbformat": 4,
  "nbformat_minor": 0,
  "metadata": {
    "colab": {
      "provenance": [],
      "authorship_tag": "ABX9TyMGZd/Y6+xdMde8nZyjYm8A",
      "include_colab_link": true
    },
    "kernelspec": {
      "name": "python3",
      "display_name": "Python 3"
    },
    "language_info": {
      "name": "python"
    }
  },
  "cells": [
    {
      "cell_type": "markdown",
      "metadata": {
        "id": "view-in-github",
        "colab_type": "text"
      },
      "source": [
        "<a href=\"https://colab.research.google.com/github/agungfirdaus717-ux/torentotgd/blob/main/SRTTranslatorBingtranslate(Fast).ipynb\" target=\"_parent\"><img src=\"https://colab.research.google.com/assets/colab-badge.svg\" alt=\"Open In Colab\"/></a>"
      ]
    },
    {
      "cell_type": "markdown",
      "source": [
        "# SRT Translator (Bing Translate)"
      ],
      "metadata": {
        "id": "FTi1FN6nlDNN"
      }
    },
    {
      "cell_type": "code",
      "execution_count": null,
      "metadata": {
        "id": "UWqsK73Pk8r9"
      },
      "outputs": [],
      "source": [
        "# ============================\n",
        "# Install & Import Library\n",
        "# ============================\n",
        "!pip install pysrt aiohttp nest_asyncio beautifulsoup4\n",
        "\n",
        "import re\n",
        "import pysrt\n",
        "import asyncio\n",
        "import aiohttp\n",
        "import nest_asyncio\n",
        "from bs4 import BeautifulSoup\n",
        "nest_asyncio.apply()\n",
        "\n",
        "import requests\n",
        "\n",
        "# ============================\n",
        "# Ambil IG Token & Daftar Bahasa Bing\n",
        "# ============================\n",
        "def get_bing_info():\n",
        "    url = \"https://www.bing.com/translator\"\n",
        "    r = requests.get(url)\n",
        "    ig = re.search(r'IG:\"([^\"]+)\"', r.text).group(1)\n",
        "\n",
        "    # Parse daftar bahasa dari HTML\n",
        "    soup = BeautifulSoup(r.text, \"html.parser\")\n",
        "    options = soup.select(\"select#tta_tgtsl option\")\n",
        "    langs = {opt[\"value\"]: opt.text for opt in options if opt.get(\"value\")}\n",
        "    return ig, langs\n",
        "\n",
        "# ============================\n",
        "# Async Function Translate\n",
        "# ============================\n",
        "async def bing_translate_async(session, text, to_lang=\"id\", from_lang=\"auto\", ig=None):\n",
        "    api_url = \"https://www.bing.com/ttranslatev3\"\n",
        "    payload = {\"fromLang\": from_lang, \"to\": to_lang, \"text\": text}\n",
        "    headers = {\"Referer\": \"https://www.bing.com/translator\"}\n",
        "    params = {\"IG\": ig, \"IID\": \"translator.5028\"}\n",
        "\n",
        "    try:\n",
        "        async with session.post(api_url, data=payload, headers=headers, params=params) as res:\n",
        "            data = await res.json()\n",
        "            return data[0][\"translations\"][0][\"text\"]\n",
        "    except:\n",
        "        return text  # fallback kalau error\n",
        "\n",
        "async def translate_batch(texts, to_lang=\"id\", ig=None):\n",
        "    async with aiohttp.ClientSession() as session:\n",
        "        tasks = [bing_translate_async(session, t, to_lang=to_lang, ig=ig) for t in texts]\n",
        "        return await asyncio.gather(*tasks)\n",
        "\n",
        "# ============================\n",
        "# Translate Subtitle Async\n",
        "# ============================\n",
        "def translate_srt_async(input_file, output_file, to_lang=\"id\", batch_size=50):\n",
        "    subs = pysrt.open(input_file)\n",
        "    texts = [sub.text.replace(\"\\n\", \" [NEWLINE] \") for sub in subs]\n",
        "\n",
        "    translated_texts = []\n",
        "    loop = asyncio.get_event_loop()\n",
        "    ig, langs = get_bing_info()\n",
        "\n",
        "    for i in range(0, len(texts), batch_size):\n",
        "        chunk = texts[i:i+batch_size]\n",
        "        print(f\"⚡ Translating lines {i+1}-{i+len(chunk)} ...\")\n",
        "        translated_chunk = loop.run_until_complete(translate_batch(chunk, to_lang=to_lang, ig=ig))\n",
        "        translated_texts.extend(translated_chunk)\n",
        "\n",
        "    translated_texts = [t.replace(\" [NEWLINE] \", \"\\n\") for t in translated_texts]\n",
        "\n",
        "    for sub, t in zip(subs, translated_texts):\n",
        "        sub.text = t\n",
        "\n",
        "    subs.save(output_file, encoding=\"utf-8\")\n",
        "    print(f\"✅ Selesai! Subtitle tersimpan di: {output_file}\")\n",
        "\n",
        "# ============================\n",
        "# Contoh Pemakaian (Interaktif)\n",
        "# ============================\n",
        "from google.colab import files\n",
        "\n",
        "print(\"Upload file subtitle (.srt)\")\n",
        "uploaded = files.upload()\n",
        "\n",
        "# Ambil daftar bahasa dari Bing\n",
        "ig, langs = get_bing_info()\n",
        "\n",
        "print(\"\\n🌍 Daftar bahasa yang tersedia di Bing Translator:\")\n",
        "for i, (code, name) in enumerate(langs.items(), start=1):\n",
        "    print(f\"{i}. {name} ({code})\")\n",
        "\n",
        "# Pilih bahasa target\n",
        "choice = int(input(\"\\n👉 Pilih nomor bahasa target: \"))\n",
        "target_code = list(langs.keys())[choice-1]\n",
        "print(f\"✅ Bahasa target dipilih: {langs[target_code]} ({target_code})\")\n",
        "\n",
        "# Proses translate\n",
        "input_file = list(uploaded.keys())[0]\n",
        "output_file = f\"output_{target_code}.srt\"\n",
        "\n",
        "translate_srt_async(input_file, output_file, to_lang=target_code)\n",
        "\n",
        "# Download hasil\n",
        "files.download(output_file)\n"
      ]
    }
  ]
}