{
  "nbformat": 4,
  "nbformat_minor": 0,
  "metadata": {
    "colab": {
      "provenance": [],
      "authorship_tag": "ABX9TyOZpoTHBFl1JfrxWTGvLCaP",
      "include_colab_link": true
    },
    "kernelspec": {
      "name": "python3",
      "display_name": "Python 3"
    },
    "language_info": {
      "name": "python"
    }
  },
  "cells": [
    {
      "cell_type": "markdown",
      "metadata": {
        "id": "view-in-github",
        "colab_type": "text"
      },
      "source": [
        "<a href=\"https://colab.research.google.com/github/agungfirdaus717-ux/torentotgd/blob/main/SrtTranslatorv2.ipynb\" target=\"_parent\"><img src=\"https://colab.research.google.com/assets/colab-badge.svg\" alt=\"Open In Colab\"/></a>"
      ]
    },
    {
      "cell_type": "markdown",
      "source": [
        "# Srt Translator To indonesia"
      ],
      "metadata": {
        "id": "cGVcGDXrjpfN"
      }
    },
    {
      "cell_type": "code",
      "execution_count": null,
      "metadata": {
        "id": "RN3vSEkBjfxx"
      },
      "outputs": [],
      "source": [
        "# 🔧 Install library sekali di awal\n",
        "!pip install transformers sentencepiece sacremoses srt chardet ipywidgets\n",
        "\n",
        "import srt, chardet, re\n",
        "from transformers import pipeline\n",
        "import ipywidgets as widgets\n",
        "from IPython.display import display\n",
        "from google.colab import files\n",
        "\n",
        "# 🚀 Model gratis EN→ID\n",
        "translator = pipeline(\"translation\", model=\"Helsinki-NLP/opus-mt-en-id\")\n",
        "\n",
        "# ======================\n",
        "# Formatter Subtitle\n",
        "# ======================\n",
        "def format_subtitle_text(t, style=\"simple\", max_len=42):\n",
        "    t = t.strip()\n",
        "    t = re.sub(r\"\\s+\", \" \", t)\n",
        "    t = re.sub(r\"\\s+([,.!?])\", r\"\\1\", t)\n",
        "    t = re.sub(r\"\\.{3,}\", \"...\", t)\n",
        "\n",
        "    # kapitalisasi per kalimat\n",
        "    sentences = re.split(r'([.!?])', t)\n",
        "    combined = []\n",
        "    for i in range(0, len(sentences)-1, 2):\n",
        "        sentence = (sentences[i].strip() + sentences[i+1]).strip()\n",
        "        if sentence:\n",
        "            sentence = sentence[0].upper() + sentence[1:]\n",
        "            combined.append(sentence)\n",
        "    if len(sentences) % 2 == 1 and sentences[-1].strip():\n",
        "        s = sentences[-1].strip()\n",
        "        s = s[0].upper() + s[1:]\n",
        "        combined.append(s)\n",
        "    t = \" \".join(combined)\n",
        "\n",
        "    # style\n",
        "    if style == \"simple\":\n",
        "        t = t.replace(\"saya\", \"aku\").replace(\"tidak\", \"nggak\")\n",
        "    elif style == \"natural\":\n",
        "        t = (t.replace(\"saya\", \"aku\")\n",
        "               .replace(\"tidak\", \"nggak\")\n",
        "               .replace(\"benar\", \"bener\")\n",
        "               .replace(\"sebaiknya\", \"mending\"))\n",
        "    elif style == \"formal\":\n",
        "        t = t.replace(\"aku\", \"saya\").replace(\"nggak\", \"tidak\").replace(\"bener\", \"benar\")\n",
        "\n",
        "    # bungkus biar enak dibaca\n",
        "    words, lines, line = t.split(), [], \"\"\n",
        "    for w in words:\n",
        "        if len(line) + len(w) + 1 <= max_len:\n",
        "            line += w + \" \"\n",
        "        else:\n",
        "            lines.append(line.strip()); line = w + \" \"\n",
        "    if line: lines.append(line.strip())\n",
        "\n",
        "    return \"\\n\".join(lines)\n",
        "\n",
        "# ======================\n",
        "# Translate fungsi\n",
        "# ======================\n",
        "def translate_srt_file(input_path, output_path, style=\"simple\"):\n",
        "    raw = open(input_path, \"rb\").read()\n",
        "    enc = chardet.detect(raw)[\"encoding\"]\n",
        "\n",
        "    with open(input_path, \"r\", encoding=enc) as f:\n",
        "        subs = list(srt.parse(f.read()))\n",
        "\n",
        "    new_subs = []\n",
        "    for sub in subs:\n",
        "        translated = translator(sub.content, max_length=512)[0]['translation_text']\n",
        "        sub.content = format_subtitle_text(translated, style=style)\n",
        "        new_subs.append(sub)\n",
        "\n",
        "    with open(output_path, \"w\", encoding=\"utf-8\") as f:\n",
        "        f.write(srt.compose(new_subs))\n",
        "\n",
        "    print(f\"✅ Subtitle selesai → {output_path}\")\n",
        "    files.download(output_path)  # otomatis download ke PC\n",
        "\n",
        "# ======================\n",
        "# 🔘 Pilih file & style\n",
        "# ======================\n",
        "uploaded = files.upload()\n",
        "file_name = list(uploaded.keys())[0]\n",
        "\n",
        "style_dropdown = widgets.Dropdown(\n",
        "    options=[\"simple\", \"natural\", \"formal\"],\n",
        "    value=\"natural\",\n",
        "    description=\"Style:\",\n",
        ")\n",
        "display(style_dropdown)\n",
        "\n",
        "# Jalankan translate\n",
        "def run_translate(_):\n",
        "    out_name = file_name.replace(\".srt\", \"_id.srt\")\n",
        "    translate_srt_file(file_name, out_name, style=style_dropdown.value)\n",
        "\n",
        "button = widgets.Button(description=\"🚀 Translate SRT\")\n",
        "button.on_click(run_translate)\n",
        "display(button)\n"
      ]
    }
  ]
}