{
  "cells": [
    {
      "cell_type": "markdown",
      "metadata": {
        "id": "view-in-github",
        "colab_type": "text"
      },
      "source": [
        "<a href=\"https://colab.research.google.com/github/agungfirdaus717-ux/torentotgd/blob/main/Torrent_to_Google_Drive_DownloaderLangsung_banyak_(2).ipynb\" target=\"_parent\"><img src=\"https://colab.research.google.com/assets/colab-badge.svg\" alt=\"Open In Colab\"/></a>"
      ]
    },
    {
      "cell_type": "markdown",
      "id": "37949a39",
      "metadata": {
        "id": "37949a39"
      },
      "source": [
        "# 🚀 Torrent to Google Drive Downloader\n",
        "📒Notebook Final (Fix dengan lbry-libtorrent)"
      ]
    },
    {
      "cell_type": "code",
      "execution_count": null,
      "id": "f15eabe6",
      "metadata": {
        "id": "f15eabe6"
      },
      "outputs": [],
      "source": [
        "\n",
        "# ============================\n",
        "# Step 1 – Install libtorrent\n",
        "# ============================\n",
        "!sudo apt-get update -y\n",
        "!sudo apt-get install -y python3.10 python3.10-distutils\n",
        "\n",
        "# Install pip untuk Python 3.10\n",
        "!curl -sS https://bootstrap.pypa.io/get-pip.py | python3.10\n",
        "\n",
        "# Install libtorrent versi LBRY (support Colab)\n",
        "!python3.10 -m pip install --upgrade pip setuptools wheel\n",
        "!python3.10 -m pip install lbry-libtorrent\n",
        "\n",
        "# Tes libtorrent\n",
        "!python3.10 -c \"import libtorrent as lt; print('✅ libtorrent version:', lt.version)\"\n"
      ]
    },
    {
      "cell_type": "code",
      "execution_count": null,
      "id": "df3d7d9e",
      "metadata": {
        "id": "df3d7d9e"
      },
      "outputs": [],
      "source": [
        "\n",
        "# ============================\n",
        "# STEP 2: Mount Google Drive\n",
        "# ============================\n",
        "from google.colab import drive\n",
        "drive.mount('/content/drive')\n",
        "\n",
        "save_path = \"/content/drive/MyDrive/torrent_downloads\"\n",
        "print(\"📂 Download path:\", save_path)\n"
      ]
    },
    {
      "cell_type": "markdown",
      "source": [
        "upload torent yang mau di download Ke My drive/torrent_downloads/torrents\n",
        "kalo gak ada tinggal buat foldernya\n",
        "\n",
        "kalo magnet upload ke My drive/torrent_download format magnets.txt (tiap link magnet 1 baris)\n",
        "\n",
        "(link khusus untuk saya, kalian login ke google drive kalian sendiri lalu ikuti langkah di atas)Upload Torent File ke sini user 0 [link](https://drive.google.com/drive/u/0/folders/1tGYAwzrBPnjucm6rcPXqDMKWePQeL18e)\n",
        "magnets.txt ke sini [link ](https://drive.google.com/drive/u/0/folders/1eCfIXBosUzw4wRDMS7WnEfSUOw9hZ5Eu)"
      ],
      "metadata": {
        "id": "owasfl7UudDk"
      },
      "id": "owasfl7UudDk"
    },
    {
      "cell_type": "code",
      "execution_count": null,
      "id": "2ffd0ead",
      "metadata": {
        "id": "2ffd0ead"
      },
      "outputs": [],
      "source": [
        "# ============================\n",
        "# Step 3 – Buat script torrent\n",
        "# ============================\n",
        "code = f\"\"\"\n",
        "import libtorrent as lt\n",
        "import time, os\n",
        "\n",
        "save_path = r\"{save_path}\"\n",
        "os.makedirs(save_path, exist_ok=True)\n",
        "\n",
        "print(\"✅ libtorrent version:\", lt.version)\n",
        "\n",
        "ses = lt.session()\n",
        "ses.listen_on(6881, 6891)\n",
        "\n",
        "# ===============================\n",
        "# Bisa campuran: file .torrent + magnet link\n",
        "# ===============================\n",
        "\n",
        "torrent_folder = os.path.join(save_path, \"torrents\")\n",
        "os.makedirs(torrent_folder, exist_ok=True)\n",
        "\n",
        "magnet_file = os.path.join(save_path, \"magnets.txt\")\n",
        "\n",
        "# Ambil semua file .torrent\n",
        "torrent_files = []\n",
        "if os.path.exists(torrent_folder):\n",
        "    torrent_files = [os.path.join(torrent_folder, f)\n",
        "                     for f in os.listdir(torrent_folder)\n",
        "                     if f.endswith(\".torrent\")]\n",
        "\n",
        "# Ambil semua magnet link dari file txt\n",
        "magnet_links = []\n",
        "if os.path.exists(magnet_file):\n",
        "    with open(magnet_file, \"r\") as f:\n",
        "        magnet_links = [line.strip() for line in f if line.strip().startswith(\"magnet:\")]\n",
        "\n",
        "# Gabungkan semua sumber\n",
        "torrent_sources = torrent_files + magnet_links\n",
        "\n",
        "handles = []\n",
        "\n",
        "for src in torrent_sources:\n",
        "    if src.startswith(\"magnet:\"):\n",
        "        params = {{\n",
        "            \"save_path\": save_path,\n",
        "            \"storage_mode\": lt.storage_mode_t(2),\n",
        "        }}\n",
        "        handle = lt.add_magnet_uri(ses, src, params)\n",
        "        print(\"➕ Magnet ditambahkan:\", src[:60] + \"...\")\n",
        "    else:\n",
        "        info = lt.torrent_info(src)\n",
        "        params = {{\n",
        "            \"save_path\": save_path,\n",
        "            \"ti\": info\n",
        "        }}\n",
        "        handle = ses.add_torrent(params)\n",
        "        print(\"📂 Torrent file ditambahkan:\", info.name())\n",
        "    handles.append(handle)\n",
        "\n",
        "print(f\"✅ Total {{len(handles)}} torrent berhasil dimulai.\\\\n\")\n",
        "\n",
        "# ===============================\n",
        "# Loop progres dengan tampilan tabel\n",
        "# ===============================\n",
        "while True:\n",
        "    all_done = True\n",
        "\n",
        "    # Clear layar (Windows/Linux/Mac)\n",
        "    os.system(\"cls\" if os.name == \"nt\" else \"clear\")\n",
        "\n",
        "    print(\"📊 Status Torrent:\")\n",
        "    print(\"=\"*70)\n",
        "    for h in handles:\n",
        "        s = h.status()\n",
        "        state_str = [\n",
        "            \"queued\", \"checking\", \"downloading metadata\",\n",
        "            \"downloading\", \"finished\", \"seeding\", \"allocating\", \"checking fastresume\"\n",
        "        ]\n",
        "        print(f\"📥 {{s.name[:25]:25}} | \"\n",
        "              f\"{{s.progress*100:6.2f}}% | \"\n",
        "              f\"↓ {{s.download_rate/1000:6.1f}} kB/s | \"\n",
        "              f\"peers: {{s.num_peers:3d}} | \"\n",
        "              f\"state: {{state_str[s.state]}}\")\n",
        "\n",
        "        if not s.is_seeding:\n",
        "            all_done = False\n",
        "\n",
        "    if all_done:\n",
        "        print(\"\\\\n🎉 Semua torrent selesai diunduh.\")\n",
        "        break\n",
        "\n",
        "    time.sleep(2)\n",
        "\"\"\"\n",
        "\n",
        "with open(\"torrent_runner.py\", \"w\") as f:\n",
        "    f.write(code)\n",
        "\n",
        "print(\"✅ File torrent_runner.py berhasil dibuat dengan tampilan tabel live.\")\n"
      ]
    },
    {
      "cell_type": "code",
      "execution_count": null,
      "id": "6f3543e6",
      "metadata": {
        "id": "6f3543e6"
      },
      "outputs": [],
      "source": [
        "# ============================\n",
        "# Step 4 – Jalankan script\n",
        "# ============================\n",
        "!python3.10 torrent_runner.py\n"
      ]
    }
  ],
  "metadata": {
    "colab": {
      "provenance": [],
      "include_colab_link": true
    },
    "language_info": {
      "name": "python"
    },
    "kernelspec": {
      "name": "python3",
      "display_name": "Python 3"
    }
  },
  "nbformat": 4,
  "nbformat_minor": 5
}
