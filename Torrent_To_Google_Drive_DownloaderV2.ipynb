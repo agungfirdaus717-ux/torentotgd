{
  "nbformat": 4,
  "nbformat_minor": 0,
  "metadata": {
    "colab": {
      "provenance": [],
      "include_colab_link": true
    },
    "kernelspec": {
      "name": "python3",
      "display_name": "Python 3"
    },
    "language_info": {
      "name": "python"
    }
  },
  "cells": [
    {
      "cell_type": "markdown",
      "metadata": {
        "id": "view-in-github",
        "colab_type": "text"
      },
      "source": [
        "<a href=\"https://colab.research.google.com/github/agungfirdaus717-ux/torentotgd/blob/main/Torrent_To_Google_Drive_DownloaderV2.ipynb\" target=\"_parent\"><img src=\"https://colab.research.google.com/assets/colab-badge.svg\" alt=\"Open In Colab\"/></a>"
      ]
    },
    {
      "cell_type": "markdown",
      "source": [
        "# 🚀 Torrent to Google Drive Downloader\n"
      ],
      "metadata": {
        "id": "cQh3jNhl0oI5"
      }
    },
    {
      "cell_type": "markdown",
      "source": [
        "### Install libtorrent dan Mount Google Drive"
      ],
      "metadata": {
        "id": "W4NSWTl-04As"
      }
    },
    {
      "cell_type": "code",
      "source": [
        "\n",
        "# ============================\n",
        "# Step 1 – Install libtorrent\n",
        "# ============================\n",
        "!sudo apt-get update -y\n",
        "!sudo apt-get install -y python3.10 python3.10-distutils\n",
        "\n",
        "# Install pip untuk Python 3.10\n",
        "!curl -sS https://bootstrap.pypa.io/get-pip.py | python3.10\n",
        "\n",
        "# Install libtorrent versi LBRY (support Colab)\n",
        "!python3.10 -m pip install --upgrade pip setuptools wheel\n",
        "!python3.10 -m pip install lbry-libtorrent\n",
        "\n",
        "# Tes libtorrent\n",
        "!python3.10 -c \"import libtorrent as lt; print('✅ libtorrent version:', lt.version)\"\n",
        "\n",
        "\n",
        "# ============================\n",
        "# STEP 2: Mount Google Drive\n",
        "# ============================\n",
        "from google.colab import drive\n",
        "drive.mount('/content/drive')\n",
        "\n",
        "save_path = \"/content/drive/MyDrive/torrent_downloads\"\n",
        "print(\"📂 Download path:\", save_path)\n"
      ],
      "metadata": {
        "id": "KiQuYWSc1Rd5"
      },
      "execution_count": null,
      "outputs": []
    },
    {
      "cell_type": "markdown",
      "source": [
        "### Masukan File Torrent"
      ],
      "metadata": {
        "id": "sgvS2Z831usX"
      }
    },
    {
      "cell_type": "markdown",
      "source": [
        "Masukan File Torent"
      ],
      "metadata": {
        "id": "0YnfkrQ825Gf"
      }
    },
    {
      "cell_type": "code",
      "source": [
        "import os\n",
        "import shutil\n",
        "\n",
        "# Folder target\n",
        "save_path2 = \"/content/drive/MyDrive/torrent_downloads/torrents\"\n",
        "\n",
        "# Hapus semua isi dalam folder\n",
        "for filename in os.listdir(save_path2):\n",
        "    file_path = os.path.join(save_path2, filename)\n",
        "    try:\n",
        "        if os.path.isfile(file_path) or os.path.islink(file_path):\n",
        "            os.unlink(file_path)  # hapus file atau symlink\n",
        "        elif os.path.isdir(file_path):\n",
        "            shutil.rmtree(file_path)  # hapus folder dan isinya\n",
        "        print(f\"🗑️ {file_path} dihapus\")\n",
        "    except Exception as e:\n",
        "        print(f\"Gagal hapus {file_path}. Error: {e}\")\n",
        "\n",
        "# 2. Upload file dari PC\n",
        "from google.colab import files\n",
        "import shutil, os\n",
        "\n",
        "uploaded = files.upload()\n",
        "\n",
        "# 3. Tentukan path tujuan di Google Drive\n",
        "save_path2 = \"/content/drive/MyDrive/torrent_downloads/torrents\"  # ubah sesuai kebutuhan\n",
        "os.makedirs(save_path2, exist_ok=True)\n",
        "\n",
        "# 4. Pindahkan semua file yang diupload ke Drive\n",
        "for filename in uploaded.keys():\n",
        "    shutil.move(filename, os.path.join(save_path2, filename))\n",
        "    print(f\"✅ File {filename} disimpan di {save_path2}/{filename}\")\n"
      ],
      "metadata": {
        "id": "1dWqjWPl2id6"
      },
      "execution_count": null,
      "outputs": []
    },
    {
      "cell_type": "markdown",
      "source": [
        "### Masukan File Magnet"
      ],
      "metadata": {
        "id": "qDQt-CaZ3txw"
      }
    },
    {
      "cell_type": "markdown",
      "source": [
        "Isi File harus bernama magnets.txt, dan isi nya link magnet per link 1 baris kalau mau banyak"
      ],
      "metadata": {
        "id": "FpK5Bn0a4uGZ"
      }
    },
    {
      "cell_type": "code",
      "source": [
        "import os\n",
        "\n",
        "save_path3 = \"/content/drive/MyDrive/torrent_downloads\"\n",
        "target_file = \"magnets.txt\"  # ganti dengan nama file yang mau dihapus\n",
        "file_path = os.path.join(save_path3, target_file)\n",
        "\n",
        "if os.path.exists(file_path):\n",
        "    os.remove(file_path)\n",
        "    print(f\"🗑️ File {file_path} berhasil dihapus\")\n",
        "else:\n",
        "    print(f\"⚠️ File {file_path} tidak ditemukan\")\n",
        "\n",
        "# 2. Upload file dari PC\n",
        "from google.colab import files\n",
        "import shutil, os\n",
        "\n",
        "uploaded = files.upload()\n",
        "\n",
        "# 3. Tentukan path tujuan di Google Drive\n",
        "save_path3 = \"/content/drive/MyDrive/torrent_downloads\"  # ubah sesuai kebutuhan\n",
        "os.makedirs(save_path3, exist_ok=True)\n",
        "\n",
        "# 4. Pindahkan semua file yang diupload ke Drive\n",
        "for filename in uploaded.keys():\n",
        "    shutil.move(filename, os.path.join(save_path3, filename))\n",
        "    print(f\"✅ File {filename} disimpan di {save_path3}/{filename}\")\n"
      ],
      "metadata": {
        "id": "fGd6mSxg4rEv"
      },
      "execution_count": null,
      "outputs": []
    },
    {
      "cell_type": "markdown",
      "source": [
        "### Jalankan Script Torent dan mulai download"
      ],
      "metadata": {
        "id": "lVXhcrLp71WE"
      }
    },
    {
      "cell_type": "code",
      "source": [
        "# ============================\n",
        "# Step 3 – Buat script torrent\n",
        "# ============================\n",
        "code = f\"\"\"\n",
        "import libtorrent as lt\n",
        "import time, os\n",
        "\n",
        "save_path = r\"{save_path}\"\n",
        "os.makedirs(save_path, exist_ok=True)\n",
        "\n",
        "print(\"✅ libtorrent version:\", lt.version)\n",
        "\n",
        "ses = lt.session()\n",
        "ses.listen_on(6881, 6891)\n",
        "\n",
        "# ===============================\n",
        "# Bisa campuran: file .torrent + magnet link\n",
        "# ===============================\n",
        "\n",
        "torrent_folder = os.path.join(save_path, \"torrents\")\n",
        "os.makedirs(torrent_folder, exist_ok=True)\n",
        "\n",
        "magnet_file = os.path.join(save_path, \"magnets.txt\")\n",
        "\n",
        "# Ambil semua file .torrent\n",
        "torrent_files = []\n",
        "if os.path.exists(torrent_folder):\n",
        "    torrent_files = [os.path.join(torrent_folder, f)\n",
        "                     for f in os.listdir(torrent_folder)\n",
        "                     if f.endswith(\".torrent\")]\n",
        "\n",
        "# Ambil semua magnet link dari file txt\n",
        "magnet_links = []\n",
        "if os.path.exists(magnet_file):\n",
        "    with open(magnet_file, \"r\") as f:\n",
        "        magnet_links = [line.strip() for line in f if line.strip().startswith(\"magnet:\")]\n",
        "\n",
        "# Gabungkan semua sumber\n",
        "torrent_sources = torrent_files + magnet_links\n",
        "\n",
        "handles = []\n",
        "\n",
        "for src in torrent_sources:\n",
        "    if src.startswith(\"magnet:\"):\n",
        "        params = {{\n",
        "            \"save_path\": save_path,\n",
        "            \"storage_mode\": lt.storage_mode_t(2),\n",
        "        }}\n",
        "        handle = lt.add_magnet_uri(ses, src, params)\n",
        "        print(\"➕ Magnet ditambahkan:\", src[:60] + \"...\")\n",
        "    else:\n",
        "        info = lt.torrent_info(src)\n",
        "        params = {{\n",
        "            \"save_path\": save_path,\n",
        "            \"ti\": info\n",
        "        }}\n",
        "        handle = ses.add_torrent(params)\n",
        "        print(\"📂 Torrent file ditambahkan:\", info.name())\n",
        "    handles.append(handle)\n",
        "\n",
        "print(f\"✅ Total {{len(handles)}} torrent berhasil dimulai.\\\\n\")\n",
        "\n",
        "# ===============================\n",
        "# Loop progres dengan tampilan tabel\n",
        "# ===============================\n",
        "while True:\n",
        "    all_done = True\n",
        "\n",
        "    # Clear layar (Windows/Linux/Mac)\n",
        "    os.system(\"cls\" if os.name == \"nt\" else \"clear\")\n",
        "\n",
        "    print(\"📊 Status Torrent:\")\n",
        "    print(\"=\"*70)\n",
        "    for h in handles:\n",
        "        s = h.status()\n",
        "        state_str = [\n",
        "            \"queued\", \"checking\", \"downloading metadata\",\n",
        "            \"downloading\", \"finished\", \"seeding\", \"allocating\", \"checking fastresume\"\n",
        "        ]\n",
        "        print(f\"📥 {{s.name[:25]:25}} | \"\n",
        "              f\"{{s.progress*100:6.2f}}% | \"\n",
        "              f\"↓ {{s.download_rate/1000:6.1f}} kB/s | \"\n",
        "              f\"peers: {{s.num_peers:3d}} | \"\n",
        "              f\"state: {{state_str[s.state]}}\")\n",
        "\n",
        "        if not s.is_seeding:\n",
        "            all_done = False\n",
        "\n",
        "    if all_done:\n",
        "        print(\"\\\\n🎉 Semua torrent selesai diunduh.\")\n",
        "        break\n",
        "\n",
        "    time.sleep(2)\n",
        "\"\"\"\n",
        "\n",
        "with open(\"torrent_runner.py\", \"w\") as f:\n",
        "    f.write(code)\n",
        "\n",
        "print(\"✅ File torrent_runner.py berhasil dibuat dengan tampilan tabel live.\")\n",
        "\n",
        "# ============================\n",
        "# Step 4 – Jalankan script\n",
        "# ============================\n",
        "!python3.10 torrent_runner.py\n"
      ],
      "metadata": {
        "id": "pcNJyhGO8S9U"
      },
      "execution_count": null,
      "outputs": []
    }
  ]
}