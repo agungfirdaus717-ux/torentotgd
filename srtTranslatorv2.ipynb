{
  "nbformat": 4,
  "nbformat_minor": 0,
  "metadata": {
    "colab": {
      "provenance": [],
      "authorship_tag": "ABX9TyP/8hALVMe2uXTxrZG60D0I",
      "include_colab_link": true
    },
    "kernelspec": {
      "name": "python3",
      "display_name": "Python 3"
    },
    "language_info": {
      "name": "python"
    }
  },
  "cells": [
    {
      "cell_type": "markdown",
      "metadata": {
        "id": "view-in-github",
        "colab_type": "text"
      },
      "source": [
        "<a href=\"https://colab.research.google.com/github/agungfirdaus717-ux/torentotgd/blob/main/srtTranslatorv2.ipynb\" target=\"_parent\"><img src=\"https://colab.research.google.com/assets/colab-badge.svg\" alt=\"Open In Colab\"/></a>"
      ]
    },
    {
      "cell_type": "markdown",
      "source": [
        "# SRT Translator Ke Indonesia"
      ],
      "metadata": {
        "id": "O8wHiwq6iB9b"
      }
    },
    {
      "cell_type": "code",
      "execution_count": null,
      "metadata": {
        "id": "zBpuno3whruf"
      },
      "outputs": [],
      "source": [
        "# 🔧 Install library sekali di awal\n",
        "!pip install transformers sentencepiece sacremoses srt chardet ipywidgets\n",
        "\n",
        "import srt, chardet, re\n",
        "from transformers import pipeline\n",
        "import ipywidgets as widgets\n",
        "from IPython.display import display\n",
        "\n",
        "# 🚀 Load model gratis EN→ID\n",
        "translator = pipeline(\"translation\", model=\"Helsinki-NLP/opus-mt-en-id\")\n",
        "\n",
        "# ======================\n",
        "# Formatter Subtitle\n",
        "# ======================\n",
        "def format_subtitle_text(t, style=\"simple\", max_len=42):\n",
        "    t = t.strip()\n",
        "    t = re.sub(r\"\\s+\", \" \", t)\n",
        "    t = re.sub(r\"\\s+([,.!?])\", r\"\\1\", t)\n",
        "    t = re.sub(r\"\\.{3,}\", \"...\", t)\n",
        "\n",
        "    replacements_general = {\n",
        "        \"itu adalah\": \"itu\",\n",
        "        \"hal tersebut\": \"itu\",\n",
        "        \"milik saya\": \"punyaku\",\n",
        "        \"milik anda\": \"punyamu\",\n",
        "    }\n",
        "    for k,v in replacements_general.items():\n",
        "        t = t.replace(k, v)\n",
        "\n",
        "    # Kapitalisasi per kalimat\n",
        "    sentences = re.split(r'([.!?])', t)\n",
        "    combined = []\n",
        "    for i in range(0, len(sentences)-1, 2):\n",
        "        sentence = (sentences[i].strip() + sentences[i+1]).strip()\n",
        "        if sentence:\n",
        "            sentence = sentence[0].upper() + sentence[1:]\n",
        "            combined.append(sentence)\n",
        "    if len(sentences) % 2 == 1 and sentences[-1].strip():\n",
        "        s = sentences[-1].strip()\n",
        "        s = s[0].upper() + s[1:]\n",
        "        combined.append(s)\n",
        "    t = \" \".join(combined)\n",
        "\n",
        "    # Style kata\n",
        "    if style == \"simple\":\n",
        "        t = (t.replace(\"saya\", \"aku\")\n",
        "               .replace(\"tidak\", \"nggak\"))\n",
        "    elif style == \"natural\":\n",
        "        t = (t.replace(\"saya\", \"aku\")\n",
        "               .replace(\"tidak\", \"nggak\")\n",
        "               .replace(\"benar\", \"bener\")\n",
        "               .replace(\"sebaiknya\", \"mending\"))\n",
        "    elif style == \"formal\":\n",
        "        t = (t.replace(\"aku\", \"saya\")\n",
        "               .replace(\"nggak\", \"tidak\")\n",
        "               .replace(\"bener\", \"benar\"))\n",
        "\n",
        "    # Bungkus max_len\n",
        "    words = t.split()\n",
        "    lines, line = [], \"\"\n",
        "    for w in words:\n",
        "        if len(line) + len(w) + 1 <= max_len:\n",
        "            line += (w + \" \")\n",
        "        else:\n",
        "            lines.append(line.strip())\n",
        "            line = w + \" \"\n",
        "    if line:\n",
        "        lines.append(line.strip())\n",
        "\n",
        "    if len(lines) > 2:\n",
        "        half = len(lines)//2\n",
        "        return \"\\n\".join([\" \".join(lines[:half]), \" \".join(lines[half:])])\n",
        "    else:\n",
        "        return \"\\n\".join(lines)\n",
        "\n",
        "# ======================\n",
        "# Translate\n",
        "# ======================\n",
        "def translate_text(text, style=\"simple\"):\n",
        "    result = translator(text, max_length=512)[0]['translation_text']\n",
        "    return format_subtitle_text(result, style=style)\n",
        "\n",
        "def translate_srt_file(input_path, output_path, style=\"simple\"):\n",
        "    raw = open(input_path, \"rb\").read()\n",
        "    enc = chardet.detect(raw)[\"encoding\"]\n",
        "\n",
        "    with open(input_path, \"r\", encoding=enc) as f:\n",
        "        subs = list(srt.parse(f.read()))\n",
        "\n",
        "    new_subs = []\n",
        "    for sub in subs:\n",
        "        translated = translate_text(sub.content, style=style)\n",
        "        sub.content = translated\n",
        "        new_subs.append(sub)\n",
        "\n",
        "    with open(output_path, \"w\", encoding=\"utf-8\") as f:\n",
        "        f.write(srt.compose(new_subs))\n",
        "\n",
        "    print(f\"✅ Subtitle selesai diterjemahkan → {output_path}\")\n",
        "\n",
        "# ======================\n",
        "# 🔘 Dropdown interaktif\n",
        "# ======================\n",
        "style_dropdown = widgets.Dropdown(\n",
        "    options=[\"simple\", \"natural\", \"formal\"],\n",
        "    value=\"natural\",\n",
        "    description=\"Style:\",\n",
        ")\n",
        "\n",
        "display(style_dropdown)\n"
      ]
    }
  ]
}