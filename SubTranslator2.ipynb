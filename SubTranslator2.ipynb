{
  "nbformat": 4,
  "nbformat_minor": 0,
  "metadata": {
    "colab": {
      "provenance": [],
      "authorship_tag": "ABX9TyOn7gObqod5InNIcnkZGtem",
      "include_colab_link": true
    },
    "kernelspec": {
      "name": "python3",
      "display_name": "Python 3"
    },
    "language_info": {
      "name": "python"
    }
  },
  "cells": [
    {
      "cell_type": "markdown",
      "metadata": {
        "id": "view-in-github",
        "colab_type": "text"
      },
      "source": [
        "<a href=\"https://colab.research.google.com/github/agungfirdaus717-ux/torentotgd/blob/main/SubTranslator2.ipynb\" target=\"_parent\"><img src=\"https://colab.research.google.com/assets/colab-badge.svg\" alt=\"Open In Colab\"/></a>"
      ]
    },
    {
      "cell_type": "code",
      "execution_count": null,
      "metadata": {
        "id": "AcX-96hgMC9A"
      },
      "outputs": [],
      "source": [
        "# ========================================\n",
        "# 🔥 Google Colab - Multi SRT Translator\n",
        "#    pakai deep-translator (Google Translate)\n",
        "#    Tanpa API Key, auto-retry\n",
        "# ========================================\n",
        "\n",
        "!pip install deep-translator tqdm\n",
        "\n",
        "import os, re, time, random\n",
        "from deep_translator import GoogleTranslator\n",
        "from tqdm import tqdm\n",
        "from google.colab import files\n",
        "\n",
        "# Translator siap pakai\n",
        "translator = GoogleTranslator(source=\"auto\", target=\"id\")\n",
        "\n",
        "def safe_translate(text_block, retries=9999, delay=1):\n",
        "    \"\"\"\n",
        "    Translate dengan retry tanpa batas sampai sukses\n",
        "    \"\"\"\n",
        "    for attempt in range(1, retries+1):\n",
        "        try:\n",
        "            result = translator.translate(text_block)\n",
        "            if result:  # pastikan hasil tidak kosong\n",
        "                return result\n",
        "        except Exception as e:\n",
        "            print(f\"⚠️ Error attempt {attempt}: {e}\")\n",
        "            time.sleep(delay + random.uniform(0.2, 0.8))\n",
        "    return text_block  # fallback terakhir (harusnya jarang dipakai)\n",
        "\n",
        "def translate_srt(file_path, batch_size=20):\n",
        "    \"\"\"\n",
        "    Translate file SRT ke bahasa Indonesia\n",
        "    - batch_size: jumlah baris dialog per translate\n",
        "    \"\"\"\n",
        "    with open(file_path, \"r\", encoding=\"utf-8\", errors=\"ignore\") as f:\n",
        "        lines = f.readlines()\n",
        "\n",
        "    dialog_idx, dialog_lines = [], []\n",
        "    for i, line in enumerate(lines):\n",
        "        if re.match(r\"^\\d+$\", line.strip()): continue\n",
        "        if \"-->\" in line: continue\n",
        "        if line.strip() == \"\": continue\n",
        "        dialog_idx.append(i)\n",
        "        dialog_lines.append(line.strip())\n",
        "\n",
        "    translated = []\n",
        "    for i in tqdm(range(0, len(dialog_lines), batch_size), desc=f\"Translating {os.path.basename(file_path)}\"):\n",
        "        batch = dialog_lines[i:i+batch_size]\n",
        "        text_block = \"\\n\".join(batch)\n",
        "        translated_text = safe_translate(text_block)\n",
        "        translated.extend(translated_text.split(\"\\n\"))\n",
        "        time.sleep(0.5)  # jeda kecil biar aman\n",
        "\n",
        "    for idx, new_text in zip(dialog_idx, translated):\n",
        "        lines[idx] = new_text + \"\\n\"\n",
        "\n",
        "    out_path = os.path.splitext(file_path)[0] + \".id.srt\"\n",
        "    with open(out_path, \"w\", encoding=\"utf-8\") as f:\n",
        "        f.writelines(lines)\n",
        "\n",
        "    return out_path\n",
        "\n",
        "# ========================================\n",
        "# 🔼 Upload banyak file SRT\n",
        "# ========================================\n",
        "print(\"📂 Silakan upload file .srt (bisa banyak sekaligus)...\")\n",
        "uploaded = files.upload()\n",
        "\n",
        "for fn in uploaded.keys():\n",
        "    print(f\"\\n🔄 Proses: {fn}\")\n",
        "    out_file = translate_srt(fn, batch_size=20)\n",
        "    print(f\"✅ Selesai → {out_file}\")\n",
        "    files.download(out_file)\n"
      ]
    }
  ]
}