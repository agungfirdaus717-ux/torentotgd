{
  "nbformat": 4,
  "nbformat_minor": 0,
  "metadata": {
    "colab": {
      "provenance": [],
      "authorship_tag": "ABX9TyPhtxq1tSjp6JPDEJ0L86Y+",
      "include_colab_link": true
    },
    "kernelspec": {
      "name": "python3",
      "display_name": "Python 3"
    },
    "language_info": {
      "name": "python"
    }
  },
  "cells": [
    {
      "cell_type": "markdown",
      "metadata": {
        "id": "view-in-github",
        "colab_type": "text"
      },
      "source": [
        "<a href=\"https://colab.research.google.com/github/agungfirdaus717-ux/torentotgd/blob/main/SRTBingtrranslate.ipynb\" target=\"_parent\"><img src=\"https://colab.research.google.com/assets/colab-badge.svg\" alt=\"Open In Colab\"/></a>"
      ]
    },
    {
      "cell_type": "markdown",
      "source": [
        "# SRT Bing Translate Indonesia"
      ],
      "metadata": {
        "id": "i08VoJIa62He"
      }
    },
    {
      "cell_type": "code",
      "execution_count": null,
      "metadata": {
        "id": "H1jdOhh3zNa8"
      },
      "outputs": [],
      "source": [
        "# === Instalasi Library ===\n",
        "!pip install translators==5.8.3 pysrt\n",
        "\n",
        "import translators as ts\n",
        "import pysrt\n",
        "from google.colab import files\n",
        "import math, sys, re, os\n",
        "\n",
        "# === Upload Banyak File SRT ===\n",
        "print(\"📂 Silakan upload file subtitle (.srt), bisa lebih dari satu\")\n",
        "uploaded = files.upload()\n",
        "\n",
        "# === Konfigurasi ===\n",
        "SPLIT_TOKEN = \" <<<###SPLIT###>>> \"  # separator aman (pakai spasi)\n",
        "MAX_CHARS = 3000   # batas aman karakter per request\n",
        "BATCH_SIZE = 50    # coba per 50 baris, auto split kalau terlalu panjang\n",
        "TARGET_LANG = \"id\" # target bahasa\n",
        "\n",
        "# === Fungsi bagi batch ===\n",
        "def chunks(lst, n):\n",
        "    for i in range(0, len(lst), n):\n",
        "        yield lst[i:i+n]\n",
        "\n",
        "# === Fungsi translate dengan auto split & validasi ===\n",
        "def translate_batch(batch):\n",
        "    texts = [sub.text for sub in batch if sub.text.strip()]\n",
        "    if not texts:\n",
        "        return []\n",
        "\n",
        "    joined_text = SPLIT_TOKEN.join(texts)\n",
        "\n",
        "    # kalau terlalu panjang → pecah jadi setengah\n",
        "    if len(joined_text) > MAX_CHARS and len(batch) > 1:\n",
        "        mid = len(batch) // 2\n",
        "        return (\n",
        "            translate_batch(batch[:mid]) +\n",
        "            translate_batch(batch[mid:])\n",
        "        )\n",
        "\n",
        "    try:\n",
        "        translated = ts.translate_text(\n",
        "            joined_text, translator='bing', to_language=TARGET_LANG\n",
        "        )\n",
        "        parts = translated.split(SPLIT_TOKEN)\n",
        "\n",
        "        # === Validasi jumlah hasil ===\n",
        "        if len(parts) != len(texts):\n",
        "            results = []\n",
        "            for sub in batch:\n",
        "                try:\n",
        "                    results.append(\n",
        "                        ts.translate_text(sub.text, translator='bing', to_language=TARGET_LANG)\n",
        "                    )\n",
        "                except:\n",
        "                    results.append(sub.text)\n",
        "            return results\n",
        "        return parts\n",
        "\n",
        "    except Exception as e:\n",
        "        if len(batch) > 1:\n",
        "            mid = len(batch) // 2\n",
        "            return (\n",
        "                translate_batch(batch[:mid]) +\n",
        "                translate_batch(batch[mid:])\n",
        "            )\n",
        "        else:\n",
        "            print(f\"\\n❌ Gagal translate baris {batch[0].index}: {e}\")\n",
        "            return [batch[0].text]\n",
        "\n",
        "# === Fungsi perapihan teks agar enak dibaca ===\n",
        "def clean_text(text):\n",
        "    text = text.replace(\"<==PISAH==>\", \" \")      # buang marker pisah\n",
        "    text = text.replace(\"<<<###SPLIT###>>>\", \" \")\n",
        "    text = re.sub(r\"\\s+\", \" \", text)             # rapikan spasi\n",
        "    text = text.strip()\n",
        "\n",
        "    # rapikan tanda baca\n",
        "    text = text.replace(\"...\", \"…\")\n",
        "\n",
        "    # Kapital di awal kalimat\n",
        "    if text:\n",
        "        text = text[0].upper() + text[1:]\n",
        "\n",
        "    return text\n",
        "\n",
        "# === Proses Semua File ===\n",
        "for input_file in uploaded.keys():\n",
        "    print(f\"\\n🚀 Proses terjemahan file: {input_file}\")\n",
        "    subs = pysrt.open(input_file)\n",
        "    total_lines = len(subs)\n",
        "    print(f\"📑 Total baris: {total_lines}\")\n",
        "\n",
        "    processed = 0\n",
        "    for batch_idx, batch in enumerate(chunks(list(subs), BATCH_SIZE), start=1):\n",
        "        translated_lines = translate_batch(batch)\n",
        "        for sub, trans_text in zip(batch, translated_lines):\n",
        "            sub.text = clean_text(trans_text)\n",
        "\n",
        "        processed = min(batch_idx * BATCH_SIZE, total_lines)\n",
        "        percent = (processed / total_lines) * 100\n",
        "        sys.stdout.write(f\"\\r✅ Progress: {percent:.1f}% ({processed}/{total_lines})\")\n",
        "        sys.stdout.flush()\n",
        "\n",
        "    print(\"\\n🎉 Selesai!\")\n",
        "\n",
        "    # === Simpan File Baru ===\n",
        "    output_file = \"translated_\" + os.path.basename(input_file)\n",
        "    subs.save(output_file, encoding=\"utf-8\")\n",
        "    files.download(output_file)\n",
        "    print(f\"📂 File hasil: {output_file}\")\n"
      ]
    }
  ]
}